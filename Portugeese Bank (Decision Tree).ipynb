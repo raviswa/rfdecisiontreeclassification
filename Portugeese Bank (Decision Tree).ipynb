{
 "cells": [
  {
   "cell_type": "markdown",
   "metadata": {},
   "source": [
    "## Random Forests & Decision Tree - Customer Classification"
   ]
  },
  {
   "cell_type": "markdown",
   "metadata": {},
   "source": [
    "The main objective of this project is to access if the product (bank term deposit) would be taken by the customer or not. The data provided is related to direct marketing campaigns (phone calls) of a banking institution."
   ]
  },
  {
   "cell_type": "markdown",
   "metadata": {},
   "source": [
    "#### 1: Exploratory Data Analysis "
   ]
  },
  {
   "cell_type": "code",
   "execution_count": 1,
   "metadata": {},
   "outputs": [],
   "source": [
    "##Import neccesary packages required for exploratory data analysis & visualisation\n",
    "import numpy as np\n",
    "import pandas as pd\n",
    "import matplotlib.pylab as plt\n",
    "%matplotlib inline\n",
    "import seaborn as sns"
   ]
  },
  {
   "cell_type": "code",
   "execution_count": 2,
   "metadata": {},
   "outputs": [],
   "source": [
    "#Importing statistical packages\n",
    "from scipy import stats\n",
    "from scipy.stats import zscore\n",
    "from sklearn import model_selection\n",
    "from sklearn import metrics\n",
    "from sklearn import preprocessing\n",
    "from sklearn.neighbors import KNeighborsClassifier\n",
    "from sklearn.linear_model import LogisticRegression\n",
    "from sklearn.metrics import roc_curve,auc\n",
    "from sklearn.metrics import roc_auc_score\n",
    "from sklearn.metrics import accuracy_score,confusion_matrix,recall_score,precision_score,f1_score\n",
    "from sklearn.naive_bayes import GaussianNB\n",
    "from sklearn.model_selection import cross_val_score\n",
    "from sklearn.model_selection import train_test_split\n",
    "from sklearn.model_selection import KFold\n",
    "from sklearn.preprocessing import MinMaxScaler\n",
    "from sklearn.svm import SVC\n",
    "from sklearn.ensemble import AdaBoostClassifier\n",
    "from sklearn.ensemble import RandomForestClassifier\n",
    "from sklearn.ensemble import BaggingClassifier\n",
    "from sklearn.tree import DecisionTreeClassifier"
   ]
  },
  {
   "cell_type": "code",
   "execution_count": 3,
   "metadata": {},
   "outputs": [],
   "source": [
    "#Loading the dataset to python environment\n",
    "bankdata=pd.read_csv(\"bank-full.csv\")"
   ]
  },
  {
   "cell_type": "markdown",
   "metadata": {},
   "source": [
    "#Only when we understand the nature of data, we would be able to assess how each column contributes to the marketing campaign.\n",
    "The below are the customer information provided by the marketing team - pivoted by customer's background information along with campaign information\n",
    "\n",
    "1. age (numeric)\n",
    "2. job : type of job (categorical: 'admin.','blue-collar','entrepreneur','housemaid','management','retired','self-employed','services','student', technician', unemployed', un\n",
    "3. marital : marital status (categorical: 'divorced','married','single','unknown'; note: 'divorced' means divorced or widowed)\n",
    "4. education (categorical: 'basic.4y','basic.6y','basic.9y','high.school', illiterate','professional.course','university.degree','unknown')\n",
    "5. default: has credit in default? (categorical: 'no','yes','unknown')\n",
    "6. balance: average yearly balance, in euros (numeric)\n",
    "7. housing: has housing loan? (categorical: 'no','yes','unknown')\n",
    "8. loan: has personal loan? (categorical: 'no','yes','unknown')\n",
    "9. contact: contact communication type (categorical: 'cellular','telephone')\n",
    "10. day: last contact day of the month (numeric 1 -31)\n",
    "11. month: last contact month of year (categorical: 'jan', 'feb', 'mar', .., 'nov', 'dec')\n",
    "12. duration: last contact duration, in seconds (numeric). Important note: this attribute highly affects the output target (e.g., if duration=D0 then y='no'). Yet, the duration is\n",
    "13. campaign: number of contacts performed during this campaign and for this client (numeric, includes last contact)\n",
    "14. pdays: number of days that passed by after the client was last contacted from a previous campaign (numeric; 999 means client was not previously contacted)\n",
    "15. previous: number of contacts performed before this campaign and for this client (numeric)\n",
    "16. poutcome: outcome of the previous marketing campaign (categorical: 'failure','nonexistent','success')\n",
    "17. target: has the client subscribed a term deposit? (binary: \"yes\",\"no\")"
   ]
  },
  {
   "cell_type": "code",
   "execution_count": 4,
   "metadata": {},
   "outputs": [
    {
     "data": {
      "text/html": [
       "<div>\n",
       "<style scoped>\n",
       "    .dataframe tbody tr th:only-of-type {\n",
       "        vertical-align: middle;\n",
       "    }\n",
       "\n",
       "    .dataframe tbody tr th {\n",
       "        vertical-align: top;\n",
       "    }\n",
       "\n",
       "    .dataframe thead th {\n",
       "        text-align: right;\n",
       "    }\n",
       "</style>\n",
       "<table border=\"1\" class=\"dataframe\">\n",
       "  <thead>\n",
       "    <tr style=\"text-align: right;\">\n",
       "      <th></th>\n",
       "      <th>age</th>\n",
       "      <th>job</th>\n",
       "      <th>marital</th>\n",
       "      <th>education</th>\n",
       "      <th>default</th>\n",
       "      <th>balance</th>\n",
       "      <th>housing</th>\n",
       "      <th>loan</th>\n",
       "      <th>contact</th>\n",
       "      <th>day</th>\n",
       "      <th>month</th>\n",
       "      <th>duration</th>\n",
       "      <th>campaign</th>\n",
       "      <th>pdays</th>\n",
       "      <th>previous</th>\n",
       "      <th>poutcome</th>\n",
       "      <th>Target</th>\n",
       "    </tr>\n",
       "  </thead>\n",
       "  <tbody>\n",
       "    <tr>\n",
       "      <th>0</th>\n",
       "      <td>58</td>\n",
       "      <td>management</td>\n",
       "      <td>married</td>\n",
       "      <td>tertiary</td>\n",
       "      <td>no</td>\n",
       "      <td>2143</td>\n",
       "      <td>yes</td>\n",
       "      <td>no</td>\n",
       "      <td>unknown</td>\n",
       "      <td>5</td>\n",
       "      <td>may</td>\n",
       "      <td>261</td>\n",
       "      <td>1</td>\n",
       "      <td>-1</td>\n",
       "      <td>0</td>\n",
       "      <td>unknown</td>\n",
       "      <td>no</td>\n",
       "    </tr>\n",
       "    <tr>\n",
       "      <th>1</th>\n",
       "      <td>44</td>\n",
       "      <td>technician</td>\n",
       "      <td>single</td>\n",
       "      <td>secondary</td>\n",
       "      <td>no</td>\n",
       "      <td>29</td>\n",
       "      <td>yes</td>\n",
       "      <td>no</td>\n",
       "      <td>unknown</td>\n",
       "      <td>5</td>\n",
       "      <td>may</td>\n",
       "      <td>151</td>\n",
       "      <td>1</td>\n",
       "      <td>-1</td>\n",
       "      <td>0</td>\n",
       "      <td>unknown</td>\n",
       "      <td>no</td>\n",
       "    </tr>\n",
       "    <tr>\n",
       "      <th>2</th>\n",
       "      <td>33</td>\n",
       "      <td>entrepreneur</td>\n",
       "      <td>married</td>\n",
       "      <td>secondary</td>\n",
       "      <td>no</td>\n",
       "      <td>2</td>\n",
       "      <td>yes</td>\n",
       "      <td>yes</td>\n",
       "      <td>unknown</td>\n",
       "      <td>5</td>\n",
       "      <td>may</td>\n",
       "      <td>76</td>\n",
       "      <td>1</td>\n",
       "      <td>-1</td>\n",
       "      <td>0</td>\n",
       "      <td>unknown</td>\n",
       "      <td>no</td>\n",
       "    </tr>\n",
       "    <tr>\n",
       "      <th>3</th>\n",
       "      <td>47</td>\n",
       "      <td>blue-collar</td>\n",
       "      <td>married</td>\n",
       "      <td>unknown</td>\n",
       "      <td>no</td>\n",
       "      <td>1506</td>\n",
       "      <td>yes</td>\n",
       "      <td>no</td>\n",
       "      <td>unknown</td>\n",
       "      <td>5</td>\n",
       "      <td>may</td>\n",
       "      <td>92</td>\n",
       "      <td>1</td>\n",
       "      <td>-1</td>\n",
       "      <td>0</td>\n",
       "      <td>unknown</td>\n",
       "      <td>no</td>\n",
       "    </tr>\n",
       "    <tr>\n",
       "      <th>4</th>\n",
       "      <td>33</td>\n",
       "      <td>unknown</td>\n",
       "      <td>single</td>\n",
       "      <td>unknown</td>\n",
       "      <td>no</td>\n",
       "      <td>1</td>\n",
       "      <td>no</td>\n",
       "      <td>no</td>\n",
       "      <td>unknown</td>\n",
       "      <td>5</td>\n",
       "      <td>may</td>\n",
       "      <td>198</td>\n",
       "      <td>1</td>\n",
       "      <td>-1</td>\n",
       "      <td>0</td>\n",
       "      <td>unknown</td>\n",
       "      <td>no</td>\n",
       "    </tr>\n",
       "  </tbody>\n",
       "</table>\n",
       "</div>"
      ],
      "text/plain": [
       "   age           job  marital  education default  balance housing loan  \\\n",
       "0   58    management  married   tertiary      no     2143     yes   no   \n",
       "1   44    technician   single  secondary      no       29     yes   no   \n",
       "2   33  entrepreneur  married  secondary      no        2     yes  yes   \n",
       "3   47   blue-collar  married    unknown      no     1506     yes   no   \n",
       "4   33       unknown   single    unknown      no        1      no   no   \n",
       "\n",
       "   contact  day month  duration  campaign  pdays  previous poutcome Target  \n",
       "0  unknown    5   may       261         1     -1         0  unknown     no  \n",
       "1  unknown    5   may       151         1     -1         0  unknown     no  \n",
       "2  unknown    5   may        76         1     -1         0  unknown     no  \n",
       "3  unknown    5   may        92         1     -1         0  unknown     no  \n",
       "4  unknown    5   may       198         1     -1         0  unknown     no  "
      ]
     },
     "execution_count": 4,
     "metadata": {},
     "output_type": "execute_result"
    }
   ],
   "source": [
    "#Viewing sample data random 5 rows to understand the data. \n",
    "bankdata.head()"
   ]
  },
  {
   "cell_type": "markdown",
   "metadata": {},
   "source": [
    "It could be seen that few columns are mentioned as 'unknown'. These values also needs to be treated in addition to NULL values."
   ]
  },
  {
   "cell_type": "code",
   "execution_count": 5,
   "metadata": {},
   "outputs": [
    {
     "data": {
      "text/html": [
       "<div>\n",
       "<style scoped>\n",
       "    .dataframe tbody tr th:only-of-type {\n",
       "        vertical-align: middle;\n",
       "    }\n",
       "\n",
       "    .dataframe tbody tr th {\n",
       "        vertical-align: top;\n",
       "    }\n",
       "\n",
       "    .dataframe thead th {\n",
       "        text-align: right;\n",
       "    }\n",
       "</style>\n",
       "<table border=\"1\" class=\"dataframe\">\n",
       "  <thead>\n",
       "    <tr style=\"text-align: right;\">\n",
       "      <th></th>\n",
       "      <th>age</th>\n",
       "      <th>balance</th>\n",
       "      <th>day</th>\n",
       "      <th>duration</th>\n",
       "      <th>campaign</th>\n",
       "      <th>pdays</th>\n",
       "      <th>previous</th>\n",
       "    </tr>\n",
       "  </thead>\n",
       "  <tbody>\n",
       "    <tr>\n",
       "      <th>count</th>\n",
       "      <td>45211.000000</td>\n",
       "      <td>45211.000000</td>\n",
       "      <td>45211.000000</td>\n",
       "      <td>45211.000000</td>\n",
       "      <td>45211.000000</td>\n",
       "      <td>45211.000000</td>\n",
       "      <td>45211.000000</td>\n",
       "    </tr>\n",
       "    <tr>\n",
       "      <th>mean</th>\n",
       "      <td>40.936210</td>\n",
       "      <td>1362.272058</td>\n",
       "      <td>15.806419</td>\n",
       "      <td>258.163080</td>\n",
       "      <td>2.763841</td>\n",
       "      <td>40.197828</td>\n",
       "      <td>0.580323</td>\n",
       "    </tr>\n",
       "    <tr>\n",
       "      <th>std</th>\n",
       "      <td>10.618762</td>\n",
       "      <td>3044.765829</td>\n",
       "      <td>8.322476</td>\n",
       "      <td>257.527812</td>\n",
       "      <td>3.098021</td>\n",
       "      <td>100.128746</td>\n",
       "      <td>2.303441</td>\n",
       "    </tr>\n",
       "    <tr>\n",
       "      <th>min</th>\n",
       "      <td>18.000000</td>\n",
       "      <td>-8019.000000</td>\n",
       "      <td>1.000000</td>\n",
       "      <td>0.000000</td>\n",
       "      <td>1.000000</td>\n",
       "      <td>-1.000000</td>\n",
       "      <td>0.000000</td>\n",
       "    </tr>\n",
       "    <tr>\n",
       "      <th>25%</th>\n",
       "      <td>33.000000</td>\n",
       "      <td>72.000000</td>\n",
       "      <td>8.000000</td>\n",
       "      <td>103.000000</td>\n",
       "      <td>1.000000</td>\n",
       "      <td>-1.000000</td>\n",
       "      <td>0.000000</td>\n",
       "    </tr>\n",
       "    <tr>\n",
       "      <th>50%</th>\n",
       "      <td>39.000000</td>\n",
       "      <td>448.000000</td>\n",
       "      <td>16.000000</td>\n",
       "      <td>180.000000</td>\n",
       "      <td>2.000000</td>\n",
       "      <td>-1.000000</td>\n",
       "      <td>0.000000</td>\n",
       "    </tr>\n",
       "    <tr>\n",
       "      <th>75%</th>\n",
       "      <td>48.000000</td>\n",
       "      <td>1428.000000</td>\n",
       "      <td>21.000000</td>\n",
       "      <td>319.000000</td>\n",
       "      <td>3.000000</td>\n",
       "      <td>-1.000000</td>\n",
       "      <td>0.000000</td>\n",
       "    </tr>\n",
       "    <tr>\n",
       "      <th>max</th>\n",
       "      <td>95.000000</td>\n",
       "      <td>102127.000000</td>\n",
       "      <td>31.000000</td>\n",
       "      <td>4918.000000</td>\n",
       "      <td>63.000000</td>\n",
       "      <td>871.000000</td>\n",
       "      <td>275.000000</td>\n",
       "    </tr>\n",
       "  </tbody>\n",
       "</table>\n",
       "</div>"
      ],
      "text/plain": [
       "                age        balance           day      duration      campaign  \\\n",
       "count  45211.000000   45211.000000  45211.000000  45211.000000  45211.000000   \n",
       "mean      40.936210    1362.272058     15.806419    258.163080      2.763841   \n",
       "std       10.618762    3044.765829      8.322476    257.527812      3.098021   \n",
       "min       18.000000   -8019.000000      1.000000      0.000000      1.000000   \n",
       "25%       33.000000      72.000000      8.000000    103.000000      1.000000   \n",
       "50%       39.000000     448.000000     16.000000    180.000000      2.000000   \n",
       "75%       48.000000    1428.000000     21.000000    319.000000      3.000000   \n",
       "max       95.000000  102127.000000     31.000000   4918.000000     63.000000   \n",
       "\n",
       "              pdays      previous  \n",
       "count  45211.000000  45211.000000  \n",
       "mean      40.197828      0.580323  \n",
       "std      100.128746      2.303441  \n",
       "min       -1.000000      0.000000  \n",
       "25%       -1.000000      0.000000  \n",
       "50%       -1.000000      0.000000  \n",
       "75%       -1.000000      0.000000  \n",
       "max      871.000000    275.000000  "
      ]
     },
     "execution_count": 5,
     "metadata": {},
     "output_type": "execute_result"
    }
   ],
   "source": [
    "# 5 Point Summary of Numerical attributes.This gives statistical information of numerical values in the dataset like mean, count, median (50%), std deviation etc.\n",
    "bankdata.describe()"
   ]
  },
  {
   "cell_type": "code",
   "execution_count": 6,
   "metadata": {},
   "outputs": [
    {
     "data": {
      "text/plain": [
       "(45211, 17)"
      ]
     },
     "execution_count": 6,
     "metadata": {},
     "output_type": "execute_result"
    }
   ],
   "source": [
    "#Checking the shape of dataset. This gives number of columns & rows available in the dataset\n",
    "bankdata.shape"
   ]
  },
  {
   "cell_type": "code",
   "execution_count": 7,
   "metadata": {},
   "outputs": [
    {
     "data": {
      "text/plain": [
       "age          0\n",
       "job          0\n",
       "marital      0\n",
       "education    0\n",
       "default      0\n",
       "balance      0\n",
       "housing      0\n",
       "loan         0\n",
       "contact      0\n",
       "day          0\n",
       "month        0\n",
       "duration     0\n",
       "campaign     0\n",
       "pdays        0\n",
       "previous     0\n",
       "poutcome     0\n",
       "Target       0\n",
       "dtype: int64"
      ]
     },
     "execution_count": 7,
     "metadata": {},
     "output_type": "execute_result"
    }
   ],
   "source": [
    "#Checking for null values in the dataset using lambda function\n",
    "bankdata.apply(lambda x : sum(x.isnull()))"
   ]
  },
  {
   "cell_type": "code",
   "execution_count": 8,
   "metadata": {},
   "outputs": [
    {
     "data": {
      "text/plain": [
       "age            77\n",
       "job            12\n",
       "marital         3\n",
       "education       4\n",
       "default         2\n",
       "balance      7168\n",
       "housing         2\n",
       "loan            2\n",
       "contact         3\n",
       "day            31\n",
       "month          12\n",
       "duration     1573\n",
       "campaign       48\n",
       "pdays         559\n",
       "previous       41\n",
       "poutcome        4\n",
       "Target          2\n",
       "dtype: int64"
      ]
     },
     "execution_count": 8,
     "metadata": {},
     "output_type": "execute_result"
    }
   ],
   "source": [
    "#Checking for unique values available @ each column. This would give a fair idea on the categorical variables - are they binary/multiple values are available etc.  \n",
    "bankdata.apply(lambda x : len(x.unique()))"
   ]
  },
  {
   "cell_type": "code",
   "execution_count": 9,
   "metadata": {},
   "outputs": [
    {
     "name": "stdout",
     "output_type": "stream",
     "text": [
      "<class 'pandas.core.frame.DataFrame'>\n",
      "RangeIndex: 45211 entries, 0 to 45210\n",
      "Data columns (total 17 columns):\n",
      " #   Column     Non-Null Count  Dtype \n",
      "---  ------     --------------  ----- \n",
      " 0   age        45211 non-null  int64 \n",
      " 1   job        45211 non-null  object\n",
      " 2   marital    45211 non-null  object\n",
      " 3   education  45211 non-null  object\n",
      " 4   default    45211 non-null  object\n",
      " 5   balance    45211 non-null  int64 \n",
      " 6   housing    45211 non-null  object\n",
      " 7   loan       45211 non-null  object\n",
      " 8   contact    45211 non-null  object\n",
      " 9   day        45211 non-null  int64 \n",
      " 10  month      45211 non-null  object\n",
      " 11  duration   45211 non-null  int64 \n",
      " 12  campaign   45211 non-null  int64 \n",
      " 13  pdays      45211 non-null  int64 \n",
      " 14  previous   45211 non-null  int64 \n",
      " 15  poutcome   45211 non-null  object\n",
      " 16  Target     45211 non-null  object\n",
      "dtypes: int64(7), object(10)\n",
      "memory usage: 5.9+ MB\n"
     ]
    }
   ],
   "source": [
    "#Checking for Nulls & data type of each column\n",
    "bankdata.info()"
   ]
  },
  {
   "cell_type": "markdown",
   "metadata": {},
   "source": [
    "Eventhough there are no null values in the dataset, we could find that many columns have values labeled as 'unknown'. \n",
    "\n",
    "Also, we could see that most of the string columns are tagged as 'object' that refers to a generic datatype. We can either change the datatype to string/char or label these columns with keywords like the one mentioned below. We are leaving job alone as generic datatype since this column will be transformed to dummies in the later part"
   ]
  },
  {
   "cell_type": "code",
   "execution_count": 10,
   "metadata": {},
   "outputs": [
    {
     "name": "stdout",
     "output_type": "stream",
     "text": [
      "<class 'pandas.core.frame.DataFrame'>\n",
      "RangeIndex: 45211 entries, 0 to 45210\n",
      "Data columns (total 17 columns):\n",
      " #   Column     Non-Null Count  Dtype \n",
      "---  ------     --------------  ----- \n",
      " 0   age        45211 non-null  int64 \n",
      " 1   job        45211 non-null  object\n",
      " 2   marital    45211 non-null  int64 \n",
      " 3   education  45211 non-null  int64 \n",
      " 4   default    45211 non-null  int64 \n",
      " 5   balance    45211 non-null  int64 \n",
      " 6   housing    45211 non-null  int64 \n",
      " 7   loan       45211 non-null  int64 \n",
      " 8   contact    45211 non-null  int64 \n",
      " 9   day        45211 non-null  int64 \n",
      " 10  month      45211 non-null  int64 \n",
      " 11  duration   45211 non-null  int64 \n",
      " 12  campaign   45211 non-null  int64 \n",
      " 13  pdays      45211 non-null  int64 \n",
      " 14  previous   45211 non-null  int64 \n",
      " 15  poutcome   45211 non-null  int64 \n",
      " 16  Target     45211 non-null  int64 \n",
      "dtypes: int64(16), object(1)\n",
      "memory usage: 5.9+ MB\n"
     ]
    }
   ],
   "source": [
    "replace_struct={\"marital\": {\"single\":0 ,\"married\":1,\"divorced\":2},\n",
    "\"contact\": {\"unknown\":0,\"telephone\":1,\"cellular\":2},\n",
    "\"poutcome\":{\"other\":-1,\"unknown\":0,\"success\":1,\"failure\":2},\n",
    "\"month\": {\"jan\":1,\"feb\":2,\"mar\":3,\"apr\":4,\"may\":5,\"jun\":6,\"jul\":7,\"aug\":8,\"sep\":9,\"oct\":10,\"nov\":11,\"dec\":12},\n",
    "\"default\":{\"yes\":1, \"no\":0},\n",
    "\"loan\":{\"yes\":1, \"no\":0},\n",
    "\"housing\":{\"yes\":1, \"no\":0},\n",
    "\"Target\": {\"no\":0,\"yes\":1},\n",
    "\"education\":{\"primary\":1,\"secondary\":2,\"tertiary\":3,\"unknown\":0}\n",
    "}\n",
    "\n",
    "bankdata=bankdata.replace(replace_struct)\n",
    "bankdata.info()"
   ]
  },
  {
   "cell_type": "code",
   "execution_count": 11,
   "metadata": {},
   "outputs": [
    {
     "data": {
      "text/html": [
       "<div>\n",
       "<style scoped>\n",
       "    .dataframe tbody tr th:only-of-type {\n",
       "        vertical-align: middle;\n",
       "    }\n",
       "\n",
       "    .dataframe tbody tr th {\n",
       "        vertical-align: top;\n",
       "    }\n",
       "\n",
       "    .dataframe thead th {\n",
       "        text-align: right;\n",
       "    }\n",
       "</style>\n",
       "<table border=\"1\" class=\"dataframe\">\n",
       "  <thead>\n",
       "    <tr style=\"text-align: right;\">\n",
       "      <th></th>\n",
       "      <th>age</th>\n",
       "      <th>job</th>\n",
       "      <th>marital</th>\n",
       "      <th>education</th>\n",
       "      <th>default</th>\n",
       "      <th>balance</th>\n",
       "      <th>housing</th>\n",
       "      <th>loan</th>\n",
       "      <th>contact</th>\n",
       "      <th>day</th>\n",
       "      <th>month</th>\n",
       "      <th>duration</th>\n",
       "      <th>campaign</th>\n",
       "      <th>pdays</th>\n",
       "      <th>previous</th>\n",
       "      <th>poutcome</th>\n",
       "      <th>Target</th>\n",
       "    </tr>\n",
       "  </thead>\n",
       "  <tbody>\n",
       "    <tr>\n",
       "      <th>0</th>\n",
       "      <td>58</td>\n",
       "      <td>management</td>\n",
       "      <td>1</td>\n",
       "      <td>3</td>\n",
       "      <td>0</td>\n",
       "      <td>2143</td>\n",
       "      <td>1</td>\n",
       "      <td>0</td>\n",
       "      <td>0</td>\n",
       "      <td>5</td>\n",
       "      <td>5</td>\n",
       "      <td>261</td>\n",
       "      <td>1</td>\n",
       "      <td>-1</td>\n",
       "      <td>0</td>\n",
       "      <td>0</td>\n",
       "      <td>0</td>\n",
       "    </tr>\n",
       "    <tr>\n",
       "      <th>1</th>\n",
       "      <td>44</td>\n",
       "      <td>technician</td>\n",
       "      <td>0</td>\n",
       "      <td>2</td>\n",
       "      <td>0</td>\n",
       "      <td>29</td>\n",
       "      <td>1</td>\n",
       "      <td>0</td>\n",
       "      <td>0</td>\n",
       "      <td>5</td>\n",
       "      <td>5</td>\n",
       "      <td>151</td>\n",
       "      <td>1</td>\n",
       "      <td>-1</td>\n",
       "      <td>0</td>\n",
       "      <td>0</td>\n",
       "      <td>0</td>\n",
       "    </tr>\n",
       "    <tr>\n",
       "      <th>2</th>\n",
       "      <td>33</td>\n",
       "      <td>entrepreneur</td>\n",
       "      <td>1</td>\n",
       "      <td>2</td>\n",
       "      <td>0</td>\n",
       "      <td>2</td>\n",
       "      <td>1</td>\n",
       "      <td>1</td>\n",
       "      <td>0</td>\n",
       "      <td>5</td>\n",
       "      <td>5</td>\n",
       "      <td>76</td>\n",
       "      <td>1</td>\n",
       "      <td>-1</td>\n",
       "      <td>0</td>\n",
       "      <td>0</td>\n",
       "      <td>0</td>\n",
       "    </tr>\n",
       "    <tr>\n",
       "      <th>3</th>\n",
       "      <td>47</td>\n",
       "      <td>blue-collar</td>\n",
       "      <td>1</td>\n",
       "      <td>0</td>\n",
       "      <td>0</td>\n",
       "      <td>1506</td>\n",
       "      <td>1</td>\n",
       "      <td>0</td>\n",
       "      <td>0</td>\n",
       "      <td>5</td>\n",
       "      <td>5</td>\n",
       "      <td>92</td>\n",
       "      <td>1</td>\n",
       "      <td>-1</td>\n",
       "      <td>0</td>\n",
       "      <td>0</td>\n",
       "      <td>0</td>\n",
       "    </tr>\n",
       "    <tr>\n",
       "      <th>4</th>\n",
       "      <td>33</td>\n",
       "      <td>unknown</td>\n",
       "      <td>0</td>\n",
       "      <td>0</td>\n",
       "      <td>0</td>\n",
       "      <td>1</td>\n",
       "      <td>0</td>\n",
       "      <td>0</td>\n",
       "      <td>0</td>\n",
       "      <td>5</td>\n",
       "      <td>5</td>\n",
       "      <td>198</td>\n",
       "      <td>1</td>\n",
       "      <td>-1</td>\n",
       "      <td>0</td>\n",
       "      <td>0</td>\n",
       "      <td>0</td>\n",
       "    </tr>\n",
       "  </tbody>\n",
       "</table>\n",
       "</div>"
      ],
      "text/plain": [
       "   age           job  marital  education  default  balance  housing  loan  \\\n",
       "0   58    management        1          3        0     2143        1     0   \n",
       "1   44    technician        0          2        0       29        1     0   \n",
       "2   33  entrepreneur        1          2        0        2        1     1   \n",
       "3   47   blue-collar        1          0        0     1506        1     0   \n",
       "4   33       unknown        0          0        0        1        0     0   \n",
       "\n",
       "   contact  day  month  duration  campaign  pdays  previous  poutcome  Target  \n",
       "0        0    5      5       261         1     -1         0         0       0  \n",
       "1        0    5      5       151         1     -1         0         0       0  \n",
       "2        0    5      5        76         1     -1         0         0       0  \n",
       "3        0    5      5        92         1     -1         0         0       0  \n",
       "4        0    5      5       198         1     -1         0         0       0  "
      ]
     },
     "execution_count": 11,
     "metadata": {},
     "output_type": "execute_result"
    }
   ],
   "source": [
    "#Checking the dataset sample data to see how data looks after the categorical columns are replaced with keywords\n",
    "bankdata.head()"
   ]
  },
  {
   "cell_type": "code",
   "execution_count": 12,
   "metadata": {},
   "outputs": [
    {
     "data": {
      "text/html": [
       "<div>\n",
       "<style scoped>\n",
       "    .dataframe tbody tr th:only-of-type {\n",
       "        vertical-align: middle;\n",
       "    }\n",
       "\n",
       "    .dataframe tbody tr th {\n",
       "        vertical-align: top;\n",
       "    }\n",
       "\n",
       "    .dataframe thead th {\n",
       "        text-align: right;\n",
       "    }\n",
       "</style>\n",
       "<table border=\"1\" class=\"dataframe\">\n",
       "  <thead>\n",
       "    <tr style=\"text-align: right;\">\n",
       "      <th></th>\n",
       "      <th>age</th>\n",
       "      <th>marital</th>\n",
       "      <th>education</th>\n",
       "      <th>default</th>\n",
       "      <th>balance</th>\n",
       "      <th>housing</th>\n",
       "      <th>loan</th>\n",
       "      <th>contact</th>\n",
       "      <th>day</th>\n",
       "      <th>month</th>\n",
       "      <th>duration</th>\n",
       "      <th>campaign</th>\n",
       "      <th>pdays</th>\n",
       "      <th>previous</th>\n",
       "      <th>poutcome</th>\n",
       "      <th>Target</th>\n",
       "    </tr>\n",
       "  </thead>\n",
       "  <tbody>\n",
       "    <tr>\n",
       "      <th>age</th>\n",
       "      <td>1.000000</td>\n",
       "      <td>0.403240</td>\n",
       "      <td>-0.173615</td>\n",
       "      <td>-0.017879</td>\n",
       "      <td>0.097783</td>\n",
       "      <td>-0.185513</td>\n",
       "      <td>-0.015655</td>\n",
       "      <td>-0.026221</td>\n",
       "      <td>-0.009120</td>\n",
       "      <td>0.092903</td>\n",
       "      <td>-0.004648</td>\n",
       "      <td>0.004760</td>\n",
       "      <td>-0.023758</td>\n",
       "      <td>0.001288</td>\n",
       "      <td>0.011541</td>\n",
       "      <td>0.025155</td>\n",
       "    </tr>\n",
       "    <tr>\n",
       "      <th>marital</th>\n",
       "      <td>0.403240</td>\n",
       "      <td>1.000000</td>\n",
       "      <td>-0.095415</td>\n",
       "      <td>0.007023</td>\n",
       "      <td>-0.002122</td>\n",
       "      <td>0.016096</td>\n",
       "      <td>0.046893</td>\n",
       "      <td>-0.039201</td>\n",
       "      <td>0.005261</td>\n",
       "      <td>0.050938</td>\n",
       "      <td>-0.011852</td>\n",
       "      <td>0.008994</td>\n",
       "      <td>-0.019172</td>\n",
       "      <td>-0.014973</td>\n",
       "      <td>-0.006148</td>\n",
       "      <td>-0.045588</td>\n",
       "    </tr>\n",
       "    <tr>\n",
       "      <th>education</th>\n",
       "      <td>-0.173615</td>\n",
       "      <td>-0.095415</td>\n",
       "      <td>1.000000</td>\n",
       "      <td>-0.009035</td>\n",
       "      <td>0.050572</td>\n",
       "      <td>-0.038689</td>\n",
       "      <td>0.004307</td>\n",
       "      <td>0.151481</td>\n",
       "      <td>0.021661</td>\n",
       "      <td>0.067935</td>\n",
       "      <td>0.002554</td>\n",
       "      <td>0.000194</td>\n",
       "      <td>0.007092</td>\n",
       "      <td>0.025295</td>\n",
       "      <td>0.023929</td>\n",
       "      <td>0.051341</td>\n",
       "    </tr>\n",
       "    <tr>\n",
       "      <th>default</th>\n",
       "      <td>-0.017879</td>\n",
       "      <td>0.007023</td>\n",
       "      <td>-0.009035</td>\n",
       "      <td>1.000000</td>\n",
       "      <td>-0.066745</td>\n",
       "      <td>-0.006025</td>\n",
       "      <td>0.077234</td>\n",
       "      <td>-0.015404</td>\n",
       "      <td>0.009424</td>\n",
       "      <td>0.014989</td>\n",
       "      <td>-0.010021</td>\n",
       "      <td>0.016822</td>\n",
       "      <td>-0.029979</td>\n",
       "      <td>-0.018329</td>\n",
       "      <td>-0.026062</td>\n",
       "      <td>-0.022419</td>\n",
       "    </tr>\n",
       "    <tr>\n",
       "      <th>balance</th>\n",
       "      <td>0.097783</td>\n",
       "      <td>-0.002122</td>\n",
       "      <td>0.050572</td>\n",
       "      <td>-0.066745</td>\n",
       "      <td>1.000000</td>\n",
       "      <td>-0.068768</td>\n",
       "      <td>-0.084350</td>\n",
       "      <td>0.027273</td>\n",
       "      <td>0.004503</td>\n",
       "      <td>0.094605</td>\n",
       "      <td>0.021560</td>\n",
       "      <td>-0.014578</td>\n",
       "      <td>0.003435</td>\n",
       "      <td>0.016674</td>\n",
       "      <td>0.017669</td>\n",
       "      <td>0.052838</td>\n",
       "    </tr>\n",
       "    <tr>\n",
       "      <th>housing</th>\n",
       "      <td>-0.185513</td>\n",
       "      <td>0.016096</td>\n",
       "      <td>-0.038689</td>\n",
       "      <td>-0.006025</td>\n",
       "      <td>-0.068768</td>\n",
       "      <td>1.000000</td>\n",
       "      <td>0.041323</td>\n",
       "      <td>-0.188123</td>\n",
       "      <td>-0.027982</td>\n",
       "      <td>-0.173887</td>\n",
       "      <td>0.005075</td>\n",
       "      <td>-0.023599</td>\n",
       "      <td>0.124178</td>\n",
       "      <td>0.037076</td>\n",
       "      <td>0.061869</td>\n",
       "      <td>-0.139173</td>\n",
       "    </tr>\n",
       "    <tr>\n",
       "      <th>loan</th>\n",
       "      <td>-0.015655</td>\n",
       "      <td>0.046893</td>\n",
       "      <td>0.004307</td>\n",
       "      <td>0.077234</td>\n",
       "      <td>-0.084350</td>\n",
       "      <td>0.041323</td>\n",
       "      <td>1.000000</td>\n",
       "      <td>0.010873</td>\n",
       "      <td>0.011370</td>\n",
       "      <td>0.021638</td>\n",
       "      <td>-0.012412</td>\n",
       "      <td>0.009980</td>\n",
       "      <td>-0.022754</td>\n",
       "      <td>-0.011043</td>\n",
       "      <td>-0.013531</td>\n",
       "      <td>-0.068185</td>\n",
       "    </tr>\n",
       "    <tr>\n",
       "      <th>contact</th>\n",
       "      <td>-0.026221</td>\n",
       "      <td>-0.039201</td>\n",
       "      <td>0.151481</td>\n",
       "      <td>-0.015404</td>\n",
       "      <td>0.027273</td>\n",
       "      <td>-0.188123</td>\n",
       "      <td>0.010873</td>\n",
       "      <td>1.000000</td>\n",
       "      <td>0.027936</td>\n",
       "      <td>0.173779</td>\n",
       "      <td>0.020839</td>\n",
       "      <td>-0.019614</td>\n",
       "      <td>0.244816</td>\n",
       "      <td>0.147811</td>\n",
       "      <td>0.193538</td>\n",
       "      <td>0.148395</td>\n",
       "    </tr>\n",
       "    <tr>\n",
       "      <th>day</th>\n",
       "      <td>-0.009120</td>\n",
       "      <td>0.005261</td>\n",
       "      <td>0.021661</td>\n",
       "      <td>0.009424</td>\n",
       "      <td>0.004503</td>\n",
       "      <td>-0.027982</td>\n",
       "      <td>0.011370</td>\n",
       "      <td>0.027936</td>\n",
       "      <td>1.000000</td>\n",
       "      <td>0.101989</td>\n",
       "      <td>-0.030206</td>\n",
       "      <td>0.162490</td>\n",
       "      <td>-0.093044</td>\n",
       "      <td>-0.051710</td>\n",
       "      <td>-0.061163</td>\n",
       "      <td>-0.028348</td>\n",
       "    </tr>\n",
       "    <tr>\n",
       "      <th>month</th>\n",
       "      <td>0.092903</td>\n",
       "      <td>0.050938</td>\n",
       "      <td>0.067935</td>\n",
       "      <td>0.014989</td>\n",
       "      <td>0.094605</td>\n",
       "      <td>-0.173887</td>\n",
       "      <td>0.021638</td>\n",
       "      <td>0.173779</td>\n",
       "      <td>0.101989</td>\n",
       "      <td>1.000000</td>\n",
       "      <td>-0.011866</td>\n",
       "      <td>0.054868</td>\n",
       "      <td>-0.108940</td>\n",
       "      <td>-0.035600</td>\n",
       "      <td>-0.024025</td>\n",
       "      <td>0.018717</td>\n",
       "    </tr>\n",
       "    <tr>\n",
       "      <th>duration</th>\n",
       "      <td>-0.004648</td>\n",
       "      <td>-0.011852</td>\n",
       "      <td>0.002554</td>\n",
       "      <td>-0.010021</td>\n",
       "      <td>0.021560</td>\n",
       "      <td>0.005075</td>\n",
       "      <td>-0.012412</td>\n",
       "      <td>0.020839</td>\n",
       "      <td>-0.030206</td>\n",
       "      <td>-0.011866</td>\n",
       "      <td>1.000000</td>\n",
       "      <td>-0.084570</td>\n",
       "      <td>-0.001565</td>\n",
       "      <td>0.001203</td>\n",
       "      <td>-0.005523</td>\n",
       "      <td>0.394521</td>\n",
       "    </tr>\n",
       "    <tr>\n",
       "      <th>campaign</th>\n",
       "      <td>0.004760</td>\n",
       "      <td>0.008994</td>\n",
       "      <td>0.000194</td>\n",
       "      <td>0.016822</td>\n",
       "      <td>-0.014578</td>\n",
       "      <td>-0.023599</td>\n",
       "      <td>0.009980</td>\n",
       "      <td>-0.019614</td>\n",
       "      <td>0.162490</td>\n",
       "      <td>0.054868</td>\n",
       "      <td>-0.084570</td>\n",
       "      <td>1.000000</td>\n",
       "      <td>-0.088628</td>\n",
       "      <td>-0.032855</td>\n",
       "      <td>-0.089798</td>\n",
       "      <td>-0.073172</td>\n",
       "    </tr>\n",
       "    <tr>\n",
       "      <th>pdays</th>\n",
       "      <td>-0.023758</td>\n",
       "      <td>-0.019172</td>\n",
       "      <td>0.007092</td>\n",
       "      <td>-0.029979</td>\n",
       "      <td>0.003435</td>\n",
       "      <td>0.124178</td>\n",
       "      <td>-0.022754</td>\n",
       "      <td>0.244816</td>\n",
       "      <td>-0.093044</td>\n",
       "      <td>-0.108940</td>\n",
       "      <td>-0.001565</td>\n",
       "      <td>-0.088628</td>\n",
       "      <td>1.000000</td>\n",
       "      <td>0.454820</td>\n",
       "      <td>0.587264</td>\n",
       "      <td>0.103621</td>\n",
       "    </tr>\n",
       "    <tr>\n",
       "      <th>previous</th>\n",
       "      <td>0.001288</td>\n",
       "      <td>-0.014973</td>\n",
       "      <td>0.025295</td>\n",
       "      <td>-0.018329</td>\n",
       "      <td>0.016674</td>\n",
       "      <td>0.037076</td>\n",
       "      <td>-0.011043</td>\n",
       "      <td>0.147811</td>\n",
       "      <td>-0.051710</td>\n",
       "      <td>-0.035600</td>\n",
       "      <td>0.001203</td>\n",
       "      <td>-0.032855</td>\n",
       "      <td>0.454820</td>\n",
       "      <td>1.000000</td>\n",
       "      <td>0.284312</td>\n",
       "      <td>0.093236</td>\n",
       "    </tr>\n",
       "    <tr>\n",
       "      <th>poutcome</th>\n",
       "      <td>0.011541</td>\n",
       "      <td>-0.006148</td>\n",
       "      <td>0.023929</td>\n",
       "      <td>-0.026062</td>\n",
       "      <td>0.017669</td>\n",
       "      <td>0.061869</td>\n",
       "      <td>-0.013531</td>\n",
       "      <td>0.193538</td>\n",
       "      <td>-0.061163</td>\n",
       "      <td>-0.024025</td>\n",
       "      <td>-0.005523</td>\n",
       "      <td>-0.089798</td>\n",
       "      <td>0.587264</td>\n",
       "      <td>0.284312</td>\n",
       "      <td>1.000000</td>\n",
       "      <td>0.080718</td>\n",
       "    </tr>\n",
       "    <tr>\n",
       "      <th>Target</th>\n",
       "      <td>0.025155</td>\n",
       "      <td>-0.045588</td>\n",
       "      <td>0.051341</td>\n",
       "      <td>-0.022419</td>\n",
       "      <td>0.052838</td>\n",
       "      <td>-0.139173</td>\n",
       "      <td>-0.068185</td>\n",
       "      <td>0.148395</td>\n",
       "      <td>-0.028348</td>\n",
       "      <td>0.018717</td>\n",
       "      <td>0.394521</td>\n",
       "      <td>-0.073172</td>\n",
       "      <td>0.103621</td>\n",
       "      <td>0.093236</td>\n",
       "      <td>0.080718</td>\n",
       "      <td>1.000000</td>\n",
       "    </tr>\n",
       "  </tbody>\n",
       "</table>\n",
       "</div>"
      ],
      "text/plain": [
       "                age   marital  education   default   balance   housing  \\\n",
       "age        1.000000  0.403240  -0.173615 -0.017879  0.097783 -0.185513   \n",
       "marital    0.403240  1.000000  -0.095415  0.007023 -0.002122  0.016096   \n",
       "education -0.173615 -0.095415   1.000000 -0.009035  0.050572 -0.038689   \n",
       "default   -0.017879  0.007023  -0.009035  1.000000 -0.066745 -0.006025   \n",
       "balance    0.097783 -0.002122   0.050572 -0.066745  1.000000 -0.068768   \n",
       "housing   -0.185513  0.016096  -0.038689 -0.006025 -0.068768  1.000000   \n",
       "loan      -0.015655  0.046893   0.004307  0.077234 -0.084350  0.041323   \n",
       "contact   -0.026221 -0.039201   0.151481 -0.015404  0.027273 -0.188123   \n",
       "day       -0.009120  0.005261   0.021661  0.009424  0.004503 -0.027982   \n",
       "month      0.092903  0.050938   0.067935  0.014989  0.094605 -0.173887   \n",
       "duration  -0.004648 -0.011852   0.002554 -0.010021  0.021560  0.005075   \n",
       "campaign   0.004760  0.008994   0.000194  0.016822 -0.014578 -0.023599   \n",
       "pdays     -0.023758 -0.019172   0.007092 -0.029979  0.003435  0.124178   \n",
       "previous   0.001288 -0.014973   0.025295 -0.018329  0.016674  0.037076   \n",
       "poutcome   0.011541 -0.006148   0.023929 -0.026062  0.017669  0.061869   \n",
       "Target     0.025155 -0.045588   0.051341 -0.022419  0.052838 -0.139173   \n",
       "\n",
       "               loan   contact       day     month  duration  campaign  \\\n",
       "age       -0.015655 -0.026221 -0.009120  0.092903 -0.004648  0.004760   \n",
       "marital    0.046893 -0.039201  0.005261  0.050938 -0.011852  0.008994   \n",
       "education  0.004307  0.151481  0.021661  0.067935  0.002554  0.000194   \n",
       "default    0.077234 -0.015404  0.009424  0.014989 -0.010021  0.016822   \n",
       "balance   -0.084350  0.027273  0.004503  0.094605  0.021560 -0.014578   \n",
       "housing    0.041323 -0.188123 -0.027982 -0.173887  0.005075 -0.023599   \n",
       "loan       1.000000  0.010873  0.011370  0.021638 -0.012412  0.009980   \n",
       "contact    0.010873  1.000000  0.027936  0.173779  0.020839 -0.019614   \n",
       "day        0.011370  0.027936  1.000000  0.101989 -0.030206  0.162490   \n",
       "month      0.021638  0.173779  0.101989  1.000000 -0.011866  0.054868   \n",
       "duration  -0.012412  0.020839 -0.030206 -0.011866  1.000000 -0.084570   \n",
       "campaign   0.009980 -0.019614  0.162490  0.054868 -0.084570  1.000000   \n",
       "pdays     -0.022754  0.244816 -0.093044 -0.108940 -0.001565 -0.088628   \n",
       "previous  -0.011043  0.147811 -0.051710 -0.035600  0.001203 -0.032855   \n",
       "poutcome  -0.013531  0.193538 -0.061163 -0.024025 -0.005523 -0.089798   \n",
       "Target    -0.068185  0.148395 -0.028348  0.018717  0.394521 -0.073172   \n",
       "\n",
       "              pdays  previous  poutcome    Target  \n",
       "age       -0.023758  0.001288  0.011541  0.025155  \n",
       "marital   -0.019172 -0.014973 -0.006148 -0.045588  \n",
       "education  0.007092  0.025295  0.023929  0.051341  \n",
       "default   -0.029979 -0.018329 -0.026062 -0.022419  \n",
       "balance    0.003435  0.016674  0.017669  0.052838  \n",
       "housing    0.124178  0.037076  0.061869 -0.139173  \n",
       "loan      -0.022754 -0.011043 -0.013531 -0.068185  \n",
       "contact    0.244816  0.147811  0.193538  0.148395  \n",
       "day       -0.093044 -0.051710 -0.061163 -0.028348  \n",
       "month     -0.108940 -0.035600 -0.024025  0.018717  \n",
       "duration  -0.001565  0.001203 -0.005523  0.394521  \n",
       "campaign  -0.088628 -0.032855 -0.089798 -0.073172  \n",
       "pdays      1.000000  0.454820  0.587264  0.103621  \n",
       "previous   0.454820  1.000000  0.284312  0.093236  \n",
       "poutcome   0.587264  0.284312  1.000000  0.080718  \n",
       "Target     0.103621  0.093236  0.080718  1.000000  "
      ]
     },
     "execution_count": 12,
     "metadata": {},
     "output_type": "execute_result"
    }
   ],
   "source": [
    "bankdata.corr()"
   ]
  },
  {
   "cell_type": "code",
   "execution_count": 13,
   "metadata": {},
   "outputs": [
    {
     "data": {
      "text/plain": [
       "<matplotlib.axes._subplots.AxesSubplot at 0x22d1b85ce48>"
      ]
     },
     "execution_count": 13,
     "metadata": {},
     "output_type": "execute_result"
    },
    {
     "data": {
      "image/png": "[encoded data removed]",
      "text/plain": [
       "<Figure size 864x576 with 2 Axes>"
      ]
     },
     "metadata": {
      "needs_background": "light"
     },
     "output_type": "display_data"
    }
   ],
   "source": [
    "#Visualising the correlation between various columns in the dataset\n",
    "#The columns that have negative correlation to Target has been removed for this plot alone\n",
    "corr_data= bankdata[['age','balance','duration','campaign','month', 'previous','Target']]\n",
    "corr_data.corr()\n",
    "plt.figure(figsize=(12,8))\n",
    "sns.heatmap(corr_data.corr(), annot=True, fmt='0.3f', center=0,linewidths=.5)"
   ]
  },
  {
   "cell_type": "markdown",
   "metadata": {},
   "source": [
    "#### Univariate Analysis"
   ]
  },
  {
   "cell_type": "code",
   "execution_count": 14,
   "metadata": {},
   "outputs": [
    {
     "data": {
      "text/plain": [
       "array([[<matplotlib.axes._subplots.AxesSubplot object at 0x0000022D1AF6A1C8>,\n",
       "        <matplotlib.axes._subplots.AxesSubplot object at 0x0000022D1BA2B348>,\n",
       "        <matplotlib.axes._subplots.AxesSubplot object at 0x0000022D1C3A6108>,\n",
       "        <matplotlib.axes._subplots.AxesSubplot object at 0x0000022D1C3DE248>],\n",
       "       [<matplotlib.axes._subplots.AxesSubplot object at 0x0000022D1C416388>,\n",
       "        <matplotlib.axes._subplots.AxesSubplot object at 0x0000022D1C44E3C8>,\n",
       "        <matplotlib.axes._subplots.AxesSubplot object at 0x0000022D1C48DFC8>,\n",
       "        <matplotlib.axes._subplots.AxesSubplot object at 0x0000022D1C4C1608>],\n",
       "       [<matplotlib.axes._subplots.AxesSubplot object at 0x0000022D1C4CE208>,\n",
       "        <matplotlib.axes._subplots.AxesSubplot object at 0x0000022D1C5073C8>,\n",
       "        <matplotlib.axes._subplots.AxesSubplot object at 0x0000022D1C56A8C8>,\n",
       "        <matplotlib.axes._subplots.AxesSubplot object at 0x0000022D1C6E3988>],\n",
       "       [<matplotlib.axes._subplots.AxesSubplot object at 0x0000022D1C71CA88>,\n",
       "        <matplotlib.axes._subplots.AxesSubplot object at 0x0000022D1C754BC8>,\n",
       "        <matplotlib.axes._subplots.AxesSubplot object at 0x0000022D1C78DCC8>,\n",
       "        <matplotlib.axes._subplots.AxesSubplot object at 0x0000022D1C7C5D88>]],\n",
       "      dtype=object)"
      ]
     },
     "execution_count": 14,
     "metadata": {},
     "output_type": "execute_result"
    },
    {
     "data": {
      "image/png": "[encoded data removed]",
      "text/plain": [
       "<Figure size 1080x1440 with 16 Axes>"
      ]
     },
     "metadata": {
      "needs_background": "light"
     },
     "output_type": "display_data"
    }
   ],
   "source": [
    "bankdata.hist(figsize=(15,20))"
   ]
  },
  {
   "cell_type": "markdown",
   "metadata": {},
   "source": [
    "It could be seen that most of the data items are categorical by nature. Age is normally distributed & slightly left skewed.\n",
    "Columns like pdays, balance, campaign, duration etc are heavily left skewed\n",
    "Other columns like days, months doesn't follow any normal distribution pattern"
   ]
  },
  {
   "cell_type": "markdown",
   "metadata": {},
   "source": [
    "#### Visual Representation"
   ]
  },
  {
   "cell_type": "code",
   "execution_count": 15,
   "metadata": {},
   "outputs": [
    {
     "data": {
      "text/plain": [
       "<matplotlib.axes._subplots.AxesSubplot at 0x22d1d2281c8>"
      ]
     },
     "execution_count": 15,
     "metadata": {},
     "output_type": "execute_result"
    },
    {
     "data": {
      "image/png": "[encoded data removed]",
      "text/plain": [
       "<Figure size 432x288 with 1 Axes>"
      ]
     },
     "metadata": {
      "needs_background": "light"
     },
     "output_type": "display_data"
    }
   ],
   "source": [
    "sns.countplot(x=\"poutcome\", hue=\"Target\", data=bankdata)"
   ]
  },
  {
   "cell_type": "markdown",
   "metadata": {},
   "source": [
    "poutcome value of 1 shows higher Target=1 count in comparison to other customer buckets"
   ]
  },
  {
   "cell_type": "code",
   "execution_count": 16,
   "metadata": {},
   "outputs": [
    {
     "data": {
      "text/plain": [
       "<seaborn.axisgrid.JointGrid at 0x22d1d165f88>"
      ]
     },
     "execution_count": 16,
     "metadata": {},
     "output_type": "execute_result"
    },
    {
     "data": {
      "image/png": "[encoded data removed]",
      "text/plain": [
       "<Figure size 432x432 with 3 Axes>"
      ]
     },
     "metadata": {
      "needs_background": "light"
     },
     "output_type": "display_data"
    }
   ],
   "source": [
    "sns.jointplot(data=bankdata,x=\"balance\", y=\"age\", kind=\"reg\")"
   ]
  },
  {
   "cell_type": "code",
   "execution_count": 17,
   "metadata": {},
   "outputs": [
    {
     "data": {
      "text/plain": [
       "<matplotlib.axes._subplots.AxesSubplot at 0x22d1cb7e6c8>"
      ]
     },
     "execution_count": 17,
     "metadata": {},
     "output_type": "execute_result"
    },
    {
     "data": {
      "image/png": "[encoded data removed]",
      "text/plain": [
       "<Figure size 432x288 with 1 Axes>"
      ]
     },
     "metadata": {
      "needs_background": "light"
     },
     "output_type": "display_data"
    }
   ],
   "source": [
    "sns.barplot(x='month',y='balance' , hue=\"Target\",data=bankdata)"
   ]
  },
  {
   "cell_type": "markdown",
   "metadata": {},
   "source": [
    "Considering the trend of 3 continuous months, it could be seen that months between 5,6,7 have lesser balance overall, but Target is more achieved in months 12,1,2 (assuming the data runs across years: Dec (Prev Year), Jan (Current Year) & Feb (Current Year) are considered as 3 consecutive months)"
   ]
  },
  {
   "cell_type": "markdown",
   "metadata": {},
   "source": [
    "##### Handling Outliers"
   ]
  },
  {
   "cell_type": "code",
   "execution_count": 18,
   "metadata": {},
   "outputs": [
    {
     "data": {
      "image/png": "[encoded data removed]",
      "text/plain": [
       "<Figure size 776.775x432 with 1 Axes>"
      ]
     },
     "metadata": {
      "needs_background": "light"
     },
     "output_type": "display_data"
    }
   ],
   "source": [
    "g = sns.catplot(x='balance', y='loan', data=bankdata, hue='Target',orient=\"h\", kind=\"boxen\", height=6, aspect=1.7)"
   ]
  },
  {
   "cell_type": "code",
   "execution_count": 19,
   "metadata": {},
   "outputs": [
    {
     "data": {
      "text/html": [
       "<div>\n",
       "<style scoped>\n",
       "    .dataframe tbody tr th:only-of-type {\n",
       "        vertical-align: middle;\n",
       "    }\n",
       "\n",
       "    .dataframe tbody tr th {\n",
       "        vertical-align: top;\n",
       "    }\n",
       "\n",
       "    .dataframe thead th {\n",
       "        text-align: right;\n",
       "    }\n",
       "</style>\n",
       "<table border=\"1\" class=\"dataframe\">\n",
       "  <thead>\n",
       "    <tr style=\"text-align: right;\">\n",
       "      <th></th>\n",
       "      <th>age</th>\n",
       "      <th>job</th>\n",
       "      <th>marital</th>\n",
       "      <th>education</th>\n",
       "      <th>default</th>\n",
       "      <th>balance</th>\n",
       "      <th>housing</th>\n",
       "      <th>loan</th>\n",
       "      <th>contact</th>\n",
       "      <th>day</th>\n",
       "      <th>month</th>\n",
       "      <th>duration</th>\n",
       "      <th>campaign</th>\n",
       "      <th>pdays</th>\n",
       "      <th>previous</th>\n",
       "      <th>poutcome</th>\n",
       "      <th>Target</th>\n",
       "      <th>balance_zscore</th>\n",
       "    </tr>\n",
       "  </thead>\n",
       "  <tbody>\n",
       "    <tr>\n",
       "      <th>0</th>\n",
       "      <td>58</td>\n",
       "      <td>management</td>\n",
       "      <td>1</td>\n",
       "      <td>3</td>\n",
       "      <td>0</td>\n",
       "      <td>2143</td>\n",
       "      <td>1</td>\n",
       "      <td>0</td>\n",
       "      <td>0</td>\n",
       "      <td>5</td>\n",
       "      <td>5</td>\n",
       "      <td>261</td>\n",
       "      <td>1</td>\n",
       "      <td>-1</td>\n",
       "      <td>0</td>\n",
       "      <td>0</td>\n",
       "      <td>0</td>\n",
       "      <td>0.256419</td>\n",
       "    </tr>\n",
       "    <tr>\n",
       "      <th>1</th>\n",
       "      <td>44</td>\n",
       "      <td>technician</td>\n",
       "      <td>0</td>\n",
       "      <td>2</td>\n",
       "      <td>0</td>\n",
       "      <td>29</td>\n",
       "      <td>1</td>\n",
       "      <td>0</td>\n",
       "      <td>0</td>\n",
       "      <td>5</td>\n",
       "      <td>5</td>\n",
       "      <td>151</td>\n",
       "      <td>1</td>\n",
       "      <td>-1</td>\n",
       "      <td>0</td>\n",
       "      <td>0</td>\n",
       "      <td>0</td>\n",
       "      <td>-0.437895</td>\n",
       "    </tr>\n",
       "    <tr>\n",
       "      <th>2</th>\n",
       "      <td>33</td>\n",
       "      <td>entrepreneur</td>\n",
       "      <td>1</td>\n",
       "      <td>2</td>\n",
       "      <td>0</td>\n",
       "      <td>2</td>\n",
       "      <td>1</td>\n",
       "      <td>1</td>\n",
       "      <td>0</td>\n",
       "      <td>5</td>\n",
       "      <td>5</td>\n",
       "      <td>76</td>\n",
       "      <td>1</td>\n",
       "      <td>-1</td>\n",
       "      <td>0</td>\n",
       "      <td>0</td>\n",
       "      <td>0</td>\n",
       "      <td>-0.446762</td>\n",
       "    </tr>\n",
       "    <tr>\n",
       "      <th>3</th>\n",
       "      <td>47</td>\n",
       "      <td>blue-collar</td>\n",
       "      <td>1</td>\n",
       "      <td>0</td>\n",
       "      <td>0</td>\n",
       "      <td>1506</td>\n",
       "      <td>1</td>\n",
       "      <td>0</td>\n",
       "      <td>0</td>\n",
       "      <td>5</td>\n",
       "      <td>5</td>\n",
       "      <td>92</td>\n",
       "      <td>1</td>\n",
       "      <td>-1</td>\n",
       "      <td>0</td>\n",
       "      <td>0</td>\n",
       "      <td>0</td>\n",
       "      <td>0.047205</td>\n",
       "    </tr>\n",
       "    <tr>\n",
       "      <th>4</th>\n",
       "      <td>33</td>\n",
       "      <td>unknown</td>\n",
       "      <td>0</td>\n",
       "      <td>0</td>\n",
       "      <td>0</td>\n",
       "      <td>1</td>\n",
       "      <td>0</td>\n",
       "      <td>0</td>\n",
       "      <td>0</td>\n",
       "      <td>5</td>\n",
       "      <td>5</td>\n",
       "      <td>198</td>\n",
       "      <td>1</td>\n",
       "      <td>-1</td>\n",
       "      <td>0</td>\n",
       "      <td>0</td>\n",
       "      <td>0</td>\n",
       "      <td>-0.447091</td>\n",
       "    </tr>\n",
       "  </tbody>\n",
       "</table>\n",
       "</div>"
      ],
      "text/plain": [
       "   age           job  marital  education  default  balance  housing  loan  \\\n",
       "0   58    management        1          3        0     2143        1     0   \n",
       "1   44    technician        0          2        0       29        1     0   \n",
       "2   33  entrepreneur        1          2        0        2        1     1   \n",
       "3   47   blue-collar        1          0        0     1506        1     0   \n",
       "4   33       unknown        0          0        0        1        0     0   \n",
       "\n",
       "   contact  day  month  duration  campaign  pdays  previous  poutcome  Target  \\\n",
       "0        0    5      5       261         1     -1         0         0       0   \n",
       "1        0    5      5       151         1     -1         0         0       0   \n",
       "2        0    5      5        76         1     -1         0         0       0   \n",
       "3        0    5      5        92         1     -1         0         0       0   \n",
       "4        0    5      5       198         1     -1         0         0       0   \n",
       "\n",
       "   balance_zscore  \n",
       "0        0.256419  \n",
       "1       -0.437895  \n",
       "2       -0.446762  \n",
       "3        0.047205  \n",
       "4       -0.447091  "
      ]
     },
     "execution_count": 19,
     "metadata": {},
     "output_type": "execute_result"
    }
   ],
   "source": [
    "#Adding an additional column for z-score balance to identify the outliers in the column. \n",
    "#After applying z-score,any value that appears outside -3 to +3 can be treated as outliers \n",
    "bankdata['balance_zscore']=bankdata['balance']\n",
    "bankdata['balance_zscore']=zscore(bankdata['balance_zscore'])\n",
    "bankdata.head()"
   ]
  },
  {
   "cell_type": "code",
   "execution_count": 20,
   "metadata": {},
   "outputs": [
    {
     "data": {
      "text/plain": [
       "(44466, 18)"
      ]
     },
     "execution_count": 20,
     "metadata": {},
     "output_type": "execute_result"
    }
   ],
   "source": [
    "#Removing outliers\n",
    "bankdata=bankdata.drop(bankdata[(bankdata['balance_zscore']>3)|(bankdata['balance_zscore']<-3)].index, axis=0, inplace=False)\n",
    "bankdata.shape"
   ]
  },
  {
   "cell_type": "code",
   "execution_count": 21,
   "metadata": {},
   "outputs": [
    {
     "data": {
      "text/plain": [
       "(44466, 16)"
      ]
     },
     "execution_count": 21,
     "metadata": {},
     "output_type": "execute_result"
    }
   ],
   "source": [
    "#Removing unwanted columns\n",
    "bankdata=bankdata.drop(['pdays', 'poutcome'],axis=1)\n",
    "bankdata.shape"
   ]
  },
  {
   "cell_type": "code",
   "execution_count": 22,
   "metadata": {},
   "outputs": [
    {
     "data": {
      "text/plain": [
       "(42644, 16)"
      ]
     },
     "execution_count": 22,
     "metadata": {},
     "output_type": "execute_result"
    }
   ],
   "source": [
    "#Removing the rows from dataset where education column is set as '0'\n",
    "bankdata=bankdata.drop(bankdata[bankdata['education']==0].index, axis=0,inplace=False)\n",
    "bankdata.shape"
   ]
  },
  {
   "cell_type": "code",
   "execution_count": 23,
   "metadata": {},
   "outputs": [
    {
     "data": {
      "text/html": [
       "<div>\n",
       "<style scoped>\n",
       "    .dataframe tbody tr th:only-of-type {\n",
       "        vertical-align: middle;\n",
       "    }\n",
       "\n",
       "    .dataframe tbody tr th {\n",
       "        vertical-align: top;\n",
       "    }\n",
       "\n",
       "    .dataframe thead th {\n",
       "        text-align: right;\n",
       "    }\n",
       "</style>\n",
       "<table border=\"1\" class=\"dataframe\">\n",
       "  <thead>\n",
       "    <tr style=\"text-align: right;\">\n",
       "      <th></th>\n",
       "      <th>age</th>\n",
       "      <th>marital</th>\n",
       "      <th>default</th>\n",
       "      <th>balance</th>\n",
       "      <th>housing</th>\n",
       "      <th>loan</th>\n",
       "      <th>contact</th>\n",
       "      <th>day</th>\n",
       "      <th>month</th>\n",
       "      <th>duration</th>\n",
       "      <th>...</th>\n",
       "      <th>job_retired</th>\n",
       "      <th>job_self-employed</th>\n",
       "      <th>job_services</th>\n",
       "      <th>job_student</th>\n",
       "      <th>job_technician</th>\n",
       "      <th>job_unemployed</th>\n",
       "      <th>job_unknown</th>\n",
       "      <th>education_1</th>\n",
       "      <th>education_2</th>\n",
       "      <th>education_3</th>\n",
       "    </tr>\n",
       "  </thead>\n",
       "  <tbody>\n",
       "    <tr>\n",
       "      <th>0</th>\n",
       "      <td>58</td>\n",
       "      <td>1</td>\n",
       "      <td>0</td>\n",
       "      <td>2143</td>\n",
       "      <td>1</td>\n",
       "      <td>0</td>\n",
       "      <td>0</td>\n",
       "      <td>5</td>\n",
       "      <td>5</td>\n",
       "      <td>261</td>\n",
       "      <td>...</td>\n",
       "      <td>0</td>\n",
       "      <td>0</td>\n",
       "      <td>0</td>\n",
       "      <td>0</td>\n",
       "      <td>0</td>\n",
       "      <td>0</td>\n",
       "      <td>0</td>\n",
       "      <td>0</td>\n",
       "      <td>0</td>\n",
       "      <td>1</td>\n",
       "    </tr>\n",
       "    <tr>\n",
       "      <th>1</th>\n",
       "      <td>44</td>\n",
       "      <td>0</td>\n",
       "      <td>0</td>\n",
       "      <td>29</td>\n",
       "      <td>1</td>\n",
       "      <td>0</td>\n",
       "      <td>0</td>\n",
       "      <td>5</td>\n",
       "      <td>5</td>\n",
       "      <td>151</td>\n",
       "      <td>...</td>\n",
       "      <td>0</td>\n",
       "      <td>0</td>\n",
       "      <td>0</td>\n",
       "      <td>0</td>\n",
       "      <td>1</td>\n",
       "      <td>0</td>\n",
       "      <td>0</td>\n",
       "      <td>0</td>\n",
       "      <td>1</td>\n",
       "      <td>0</td>\n",
       "    </tr>\n",
       "    <tr>\n",
       "      <th>2</th>\n",
       "      <td>33</td>\n",
       "      <td>1</td>\n",
       "      <td>0</td>\n",
       "      <td>2</td>\n",
       "      <td>1</td>\n",
       "      <td>1</td>\n",
       "      <td>0</td>\n",
       "      <td>5</td>\n",
       "      <td>5</td>\n",
       "      <td>76</td>\n",
       "      <td>...</td>\n",
       "      <td>0</td>\n",
       "      <td>0</td>\n",
       "      <td>0</td>\n",
       "      <td>0</td>\n",
       "      <td>0</td>\n",
       "      <td>0</td>\n",
       "      <td>0</td>\n",
       "      <td>0</td>\n",
       "      <td>1</td>\n",
       "      <td>0</td>\n",
       "    </tr>\n",
       "    <tr>\n",
       "      <th>5</th>\n",
       "      <td>35</td>\n",
       "      <td>1</td>\n",
       "      <td>0</td>\n",
       "      <td>231</td>\n",
       "      <td>1</td>\n",
       "      <td>0</td>\n",
       "      <td>0</td>\n",
       "      <td>5</td>\n",
       "      <td>5</td>\n",
       "      <td>139</td>\n",
       "      <td>...</td>\n",
       "      <td>0</td>\n",
       "      <td>0</td>\n",
       "      <td>0</td>\n",
       "      <td>0</td>\n",
       "      <td>0</td>\n",
       "      <td>0</td>\n",
       "      <td>0</td>\n",
       "      <td>0</td>\n",
       "      <td>0</td>\n",
       "      <td>1</td>\n",
       "    </tr>\n",
       "    <tr>\n",
       "      <th>6</th>\n",
       "      <td>28</td>\n",
       "      <td>0</td>\n",
       "      <td>0</td>\n",
       "      <td>447</td>\n",
       "      <td>1</td>\n",
       "      <td>1</td>\n",
       "      <td>0</td>\n",
       "      <td>5</td>\n",
       "      <td>5</td>\n",
       "      <td>217</td>\n",
       "      <td>...</td>\n",
       "      <td>0</td>\n",
       "      <td>0</td>\n",
       "      <td>0</td>\n",
       "      <td>0</td>\n",
       "      <td>0</td>\n",
       "      <td>0</td>\n",
       "      <td>0</td>\n",
       "      <td>0</td>\n",
       "      <td>0</td>\n",
       "      <td>1</td>\n",
       "    </tr>\n",
       "  </tbody>\n",
       "</table>\n",
       "<p>5 rows × 29 columns</p>\n",
       "</div>"
      ],
      "text/plain": [
       "   age  marital  default  balance  housing  loan  contact  day  month  \\\n",
       "0   58        1        0     2143        1     0        0    5      5   \n",
       "1   44        0        0       29        1     0        0    5      5   \n",
       "2   33        1        0        2        1     1        0    5      5   \n",
       "5   35        1        0      231        1     0        0    5      5   \n",
       "6   28        0        0      447        1     1        0    5      5   \n",
       "\n",
       "   duration  ...  job_retired  job_self-employed  job_services  job_student  \\\n",
       "0       261  ...            0                  0             0            0   \n",
       "1       151  ...            0                  0             0            0   \n",
       "2        76  ...            0                  0             0            0   \n",
       "5       139  ...            0                  0             0            0   \n",
       "6       217  ...            0                  0             0            0   \n",
       "\n",
       "   job_technician  job_unemployed  job_unknown  education_1  education_2  \\\n",
       "0               0               0            0            0            0   \n",
       "1               1               0            0            0            1   \n",
       "2               0               0            0            0            1   \n",
       "5               0               0            0            0            0   \n",
       "6               0               0            0            0            0   \n",
       "\n",
       "   education_3  \n",
       "0            1  \n",
       "1            0  \n",
       "2            0  \n",
       "5            1  \n",
       "6            1  \n",
       "\n",
       "[5 rows x 29 columns]"
      ]
     },
     "execution_count": 23,
     "metadata": {},
     "output_type": "execute_result"
    }
   ],
   "source": [
    "#Objective of creating dummy variables is to convert categorical data to binary format since some scikit packages doesn't accept Non-Numerical data. \n",
    "#Each values in the job / education category will be split into individual columns & each of the column will hold binary data\n",
    "oneHotcode =['job','education']\n",
    "bankdata=pd.get_dummies(bankdata,columns=oneHotcode)\n",
    "bankdata.shape\n",
    "bankdata.head()"
   ]
  },
  {
   "cell_type": "code",
   "execution_count": 24,
   "metadata": {},
   "outputs": [
    {
     "data": {
      "text/plain": [
       "(42644, 28)"
      ]
     },
     "execution_count": 24,
     "metadata": {},
     "output_type": "execute_result"
    }
   ],
   "source": [
    "bankdata=bankdata.drop(['job_unknown'],axis=1)\n",
    "bankdata.shape"
   ]
  },
  {
   "cell_type": "markdown",
   "metadata": {},
   "source": [
    "#### Modelling: Trying classification algorithms & evaluating their performances"
   ]
  },
  {
   "cell_type": "code",
   "execution_count": 25,
   "metadata": {},
   "outputs": [],
   "source": [
    "# Splitting the Data into test & train. x represents feature columns & Y represents target column. \n",
    "# The dataset is prepared in such a way that only features data is available in x & only Target is available in Y  \n",
    "# The x, Y, test & train data created here will be used for further modelling purposes\n",
    "x=bankdata.drop(['Target'], axis=1)\n",
    "Y=bankdata['Target']\n",
    "x_train, x_test, Y_train, Y_test = train_test_split(x,Y, train_size = 0.7, test_size = 0.3, random_state = 1)"
   ]
  },
  {
   "cell_type": "markdown",
   "metadata": {},
   "source": [
    "Various classification models are computed & their performance is assessed through accuracy score in training dataset, test dataset & confusion matrix in the same order for all modeling techniques"
   ]
  },
  {
   "cell_type": "code",
   "execution_count": 26,
   "metadata": {},
   "outputs": [
    {
     "name": "stdout",
     "output_type": "stream",
     "text": [
      "0.8912227805695142\n",
      "0.8857276848522745\n",
      "[[11081   176]\n",
      " [ 1286   251]]\n"
     ]
    }
   ],
   "source": [
    "#Logistic Regression modelling\n",
    "model = LogisticRegression(solver='sag',max_iter=10000)\n",
    "model.fit(x_train, Y_train)                 \n",
    "model_score = model.score(x_test, Y_test)\n",
    "lr_predict = model.predict(x_test)\n",
    "lr_score_trn=model.score(x_train, Y_train)\n",
    "lr_score_tst=model.score(x_test, Y_test)\n",
    "print(lr_score_trn)\n",
    "print(lr_score_tst)\n",
    "print(metrics.confusion_matrix(Y_test, lr_predict))"
   ]
  },
  {
   "cell_type": "code",
   "execution_count": 27,
   "metadata": {},
   "outputs": [
    {
     "name": "stdout",
     "output_type": "stream",
     "text": [
      "0.8846334219165234\n",
      "[[11078   179]\n",
      " [ 1297   240]]\n"
     ]
    }
   ],
   "source": [
    "KNNModel = KNeighborsClassifier(n_neighbors =95)\n",
    "# fitting the model\n",
    "KNNModel.fit(x_train,Y_train)\n",
    "# predict the response\n",
    "knn_pred = KNNModel.predict(x_test)\n",
    "# evaluate accuracy\n",
    "print(KNNModel.score(x_test, Y_test))\n",
    "knn_score_trn=KNNModel.score(x_train, Y_train)\n",
    "knn_score_tst=KNNModel.score(x_test, Y_test)\n",
    "print(metrics.confusion_matrix(Y_test, knn_pred))"
   ]
  },
  {
   "cell_type": "code",
   "execution_count": 28,
   "metadata": {},
   "outputs": [
    {
     "name": "stdout",
     "output_type": "stream",
     "text": [
      "0.8338023450586265\n",
      "0.834688135063311\n",
      "[[ 695  842]\n",
      " [1273 9984]]\n"
     ]
    }
   ],
   "source": [
    "#Naive Bayes classification algorithm\n",
    "NBModel = GaussianNB()\n",
    "NBModel.fit(x_train, Y_train)\n",
    "nb_pred= NBModel.predict(x_test)\n",
    "print(NBModel.score(x_train, Y_train))\n",
    "print(NBModel.score(x_test, Y_test))\n",
    "ConfMat=metrics.confusion_matrix(Y_test, nb_pred, labels=[1, 0])\n",
    "print (ConfMat)\n",
    "nb_score_trn=NBModel.score(x_train, Y_train)\n",
    "nb_score_tst=NBModel.score(x_test, Y_test)"
   ]
  },
  {
   "cell_type": "code",
   "execution_count": 29,
   "metadata": {},
   "outputs": [
    {
     "name": "stdout",
     "output_type": "stream",
     "text": [
      "0.8865326633165829\n",
      "0.8798655619821791\n",
      "[[11257     0]\n",
      " [ 1537     0]]\n"
     ]
    }
   ],
   "source": [
    "# Building a Support Vector Machine\n",
    "SVCModel = SVC(C= .1, kernel='rbf', gamma= 'auto')\n",
    "SVCModel.fit(x_train, Y_train)\n",
    "svc_pred= SVCModel.predict(x_test)\n",
    "print(SVCModel.score(x_train, Y_train))\n",
    "print(SVCModel.score(x_test, Y_test))\n",
    "svc_score_trn=SVCModel.score(x_train, Y_train)\n",
    "svc_score_tst=SVCModel.score(x_test, Y_test)\n",
    "print(metrics.confusion_matrix(Y_test, svc_pred))"
   ]
  },
  {
   "cell_type": "markdown",
   "metadata": {},
   "source": [
    "#### Building a Decision Tree"
   ]
  },
  {
   "cell_type": "code",
   "execution_count": 30,
   "metadata": {},
   "outputs": [
    {
     "name": "stdout",
     "output_type": "stream",
     "text": [
      "1.0\n"
     ]
    }
   ],
   "source": [
    "# Building a standard decision tree. This works well for train data, but performance decreases in test data. \n",
    "# This implies when the max depth is not set, the classification does a overfitting. \n",
    "# In real-time this kind of modeling tend to fail in production but works well with training data\n",
    "dTree = DecisionTreeClassifier(criterion = 'gini', random_state=1)\n",
    "dTree.fit(x_train, Y_train)\n",
    "print(dTree.score(x_train, Y_train))  "
   ]
  },
  {
   "cell_type": "code",
   "execution_count": 31,
   "metadata": {},
   "outputs": [
    {
     "name": "stdout",
     "output_type": "stream",
     "text": [
      "0.8993969849246232\n",
      "0.88893231202126\n",
      "                        Imp\n",
      "age                0.045375\n",
      "marital            0.004013\n",
      "default            0.000000\n",
      "balance            0.000000\n",
      "housing            0.100434\n",
      "loan               0.000000\n",
      "contact            0.022978\n",
      "day                0.001884\n",
      "month              0.071130\n",
      "duration           0.660326\n",
      "campaign           0.000000\n",
      "previous           0.090527\n",
      "balance_zscore     0.002385\n",
      "job_admin.         0.000000\n",
      "job_blue-collar    0.000000\n",
      "job_entrepreneur   0.000000\n",
      "job_housemaid      0.000000\n",
      "job_management     0.000000\n",
      "job_retired        0.000000\n",
      "job_self-employed  0.000000\n",
      "job_services       0.000000\n",
      "job_student        0.000000\n",
      "job_technician     0.000000\n",
      "job_unemployed     0.000947\n",
      "education_1        0.000000\n",
      "education_2        0.000000\n",
      "education_3        0.000000\n"
     ]
    }
   ],
   "source": [
    "# In order to overcome the overfitting issue, we have added max_depth. \n",
    "# Lesser value for max depth would lead to underfitting & more  value would lead to overfitting.\n",
    "# The max depth value is set in such a way that a balance is maintained between overfitting & underfitting\n",
    "dTree = DecisionTreeClassifier(criterion = 'gini', max_depth=5,random_state=1)\n",
    "dTree.fit(x_train, Y_train)\n",
    "dtree_pred=dTree.score(x_test, Y_test)\n",
    "print(dTree.score(x_train, Y_train))\n",
    "print(dTree.score(x_test, Y_test))\n",
    "dtree_score_trn=dTree.score(x_train, Y_train)\n",
    "dtree_score_tst=dTree.score(x_test, Y_test)\n",
    "# Based on the importance features, we can consider the columns that are of higher values alone into consideration \n",
    "# Low / zero values doesn't contribute much to the decision tree modeling \n",
    "print (pd.DataFrame(dTree.feature_importances_, columns = [\"Imp\"], index = x_train.columns))"
   ]
  },
  {
   "cell_type": "markdown",
   "metadata": {},
   "source": [
    "#### Ensemble Techniques: Bagging & Boosting Classifiers"
   ]
  },
  {
   "cell_type": "code",
   "execution_count": 32,
   "metadata": {},
   "outputs": [
    {
     "name": "stdout",
     "output_type": "stream",
     "text": [
      "0.8919024542754416\n",
      "[[  474  1063]\n",
      " [  320 10937]]\n"
     ]
    }
   ],
   "source": [
    "#Bagging Classifier algorithm is used here & base estimator is selected as Decision tree (max_depth specified) that we modeled few steps before.\n",
    "bgcl = BaggingClassifier(base_estimator=dTree, n_estimators=50,random_state=1)\n",
    "bgcl = bgcl.fit(x_train, Y_train)\n",
    "bgcl_pred = bgcl.predict(x_test)\n",
    "print(bgcl.score(x_test, Y_test))\n",
    "ConfMat=metrics.confusion_matrix(Y_test, bgcl_pred, labels=[1, 0])\n",
    "print (ConfMat)\n",
    "bgcl_score_trn=bgcl.score(x_train, Y_train)\n",
    "bgcl_score_tst=bgcl.score(x_test, Y_test)"
   ]
  },
  {
   "cell_type": "code",
   "execution_count": 33,
   "metadata": {},
   "outputs": [
    {
     "name": "stdout",
     "output_type": "stream",
     "text": [
      "0.8923714241050492\n",
      "[[  696   841]\n",
      " [  536 10721]]\n"
     ]
    }
   ],
   "source": [
    "#Trying Adaboost Classifier algorithm modeling similar to bagging classifier \n",
    "abcl = AdaBoostClassifier(base_estimator=dTree, n_estimators=50,random_state=1)\n",
    "abcl = abcl.fit(x_train, Y_train)\n",
    "abcl_pred = abcl.predict(x_test)\n",
    "print(abcl.score(x_test, Y_test))\n",
    "ConfMat=metrics.confusion_matrix(Y_test, abcl_pred, labels=[1, 0])\n",
    "print (ConfMat)\n",
    "abcl_score_trn=abcl.score(x_train, Y_train)\n",
    "abcl_score_tst=abcl.score(x_test, Y_test)"
   ]
  },
  {
   "cell_type": "markdown",
   "metadata": {},
   "source": [
    "#### Model Performance Comparison"
   ]
  },
  {
   "cell_type": "code",
   "execution_count": 34,
   "metadata": {},
   "outputs": [
    {
     "name": "stdout",
     "output_type": "stream",
     "text": [
      "{'Model': ['LR', 'KNN', 'NB', 'SVC', 'DTree', 'Bagging', 'AdaBoost'], 'Training val': [0.8912227805695142, 0.8922948073701843, 0.8338023450586265, 0.8865326633165829, 0.8993969849246232, 0.9032160804020101, 0.9515242881072027], 'Test Val': [0.8857276848522745, 0.8846334219165234, 0.834688135063311, 0.8798655619821791, 0.88893231202126, 0.8919024542754416, 0.8923714241050492]}\n"
     ]
    }
   ],
   "source": [
    "d = {'Model': ['LR','KNN','NB','SVC', 'DTree', 'Bagging','AdaBoost'],\n",
    "     'Training val':[lr_score_trn,knn_score_trn,nb_score_trn,svc_score_trn,dtree_score_trn, bgcl_score_trn, abcl_score_trn], \n",
    "     'Test Val': [lr_score_tst,knn_score_tst,nb_score_tst,svc_score_tst,dtree_score_tst, bgcl_score_tst, abcl_score_tst],}\n",
    "print (d)"
   ]
  },
  {
   "cell_type": "code",
   "execution_count": 35,
   "metadata": {},
   "outputs": [
    {
     "name": "stdout",
     "output_type": "stream",
     "text": [
      "      Model  Training val  Test Val\n",
      "0        LR      0.891223  0.885728\n",
      "1       KNN      0.892295  0.884633\n",
      "2        NB      0.833802  0.834688\n",
      "3       SVC      0.886533  0.879866\n",
      "4     DTree      0.899397  0.888932\n",
      "5   Bagging      0.903216  0.891902\n",
      "6  AdaBoost      0.951524  0.892371\n"
     ]
    }
   ],
   "source": [
    "eval=pd.DataFrame(d)\n",
    "print(eval)"
   ]
  },
  {
   "cell_type": "markdown",
   "metadata": {},
   "source": [
    "#### Conclusion"
   ]
  },
  {
   "cell_type": "markdown",
   "metadata": {},
   "source": [
    "By applying logistic regression, classification and estimation model were built with 88.57% score. Other models such as NB, KNN, SVC didn't yield this much score eventhough KNN was bit closer to LR.\n",
    "\n",
    "When Decision Tree algorithms & ensemble techniques were applied, the score improved to 88.89% (DTree) upto 89.23% (Boosting)\n",
    "\n",
    "With either of ensemble techniques, the bank will be able to predict better if the customer would subscribe to the product as a response to the Bank's telemarketing campaign."
   ]
  }
 ],
 "metadata": {
  "kernelspec": {
   "display_name": "Python 3",
   "language": "python",
   "name": "python3"
  },
  "language_info": {
   "codemirror_mode": {
    "name": "ipython",
    "version": 3
   },
   "file_extension": ".py",
   "mimetype": "text/x-python",
   "name": "python",
   "nbconvert_exporter": "python",
   "pygments_lexer": "ipython3",
   "version": "3.8.5"
  }
 },
 "nbformat": 4,
 "nbformat_minor": 4
}
